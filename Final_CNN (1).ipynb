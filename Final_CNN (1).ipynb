{
  "nbformat": 4,
  "nbformat_minor": 0,
  "metadata": {
    "colab": {
      "provenance": [],
      "gpuType": "T4"
    },
    "kernelspec": {
      "name": "python3",
      "display_name": "Python 3"
    },
    "language_info": {
      "name": "python"
    },
    "accelerator": "GPU"
  },
  "cells": [
    {
      "cell_type": "code",
      "execution_count": null,
      "metadata": {
        "id": "DMsELUCQ_9sh"
      },
      "outputs": [],
      "source": [
        "import numpy as np\n",
        "import tensorflow as tf\n",
        "from tensorflow import keras\n",
        "from tensorflow.keras import layers\n",
        "from keras import backend as K\n",
        "from tensorflow.keras.preprocessing.image import ImageDataGenerator\n",
        "from keras.models import Sequential\n",
        "from keras.layers import Conv2D, MaxPooling2D\n",
        "from keras.layers import Activation, Dropout, Flatten, Dense\n",
        "from tensorflow.keras.preprocessing import image\n"
      ]
    },
    {
      "cell_type": "code",
      "source": [
        "from google.colab import drive\n",
        "drive.mount(\"/content/drive\", force_remount=True)"
      ],
      "metadata": {
        "colab": {
          "base_uri": "https://localhost:8080/"
        },
        "id": "vB_cBN5cBU9Y",
        "outputId": "ce341bc9-2821-4e5c-cd0e-1c0109a88564"
      },
      "execution_count": null,
      "outputs": [
        {
          "output_type": "stream",
          "name": "stdout",
          "text": [
            "Mounted at /content/drive\n"
          ]
        }
      ]
    },
    {
      "cell_type": "code",
      "source": [
        "!pip install unrar\n",
        "!unrar x /content/drive/MyDrive/Colab-Notebooks/NUS/SummerProject/dataset/Final_v1.rar"
      ],
      "metadata": {
        "id": "o3iRQhJjh7WJ"
      },
      "execution_count": null,
      "outputs": []
    },
    {
      "cell_type": "code",
      "source": [
        "!unzip /content/drive/MyDrive/Colab-Notebooks/NUS/SummerProject/dataset/data.zip"
      ],
      "metadata": {
        "id": "S74fpwk9Dp9g"
      },
      "execution_count": null,
      "outputs": []
    },
    {
      "cell_type": "code",
      "source": [
        "img_width, img_height = 200, 200"
      ],
      "metadata": {
        "id": "CC5VHkybFMj0"
      },
      "execution_count": null,
      "outputs": []
    },
    {
      "cell_type": "code",
      "source": [
        "train_data_dir='/content/Final_v1/Train'\n",
        "test_data_dir = '/content/Final_v1/Test'\n",
        "batch_size=600\n",
        "epochs=42"
      ],
      "metadata": {
        "id": "0KwVWgHnGjC7"
      },
      "execution_count": null,
      "outputs": []
    },
    {
      "cell_type": "code",
      "source": [
        "# this is the augmentation configuration we will use for testing:\n",
        "# only rescaling\n",
        "test_datagen = ImageDataGenerator(rescale=1. / 255)\n",
        "\n",
        "# this is the augmentation configuration we will use for training\n",
        "train_datagen = ImageDataGenerator(\n",
        "    rescale=1. / 255,\n",
        "    shear_range=0.2,\n",
        "    zoom_range=0.2,\n",
        "    horizontal_flip=True)\n",
        "\n",
        "# this is the augmentation configuration we will use for testing:\n",
        "# only rescaling\n",
        "test_datagen = ImageDataGenerator(rescale=1. / 255)"
      ],
      "metadata": {
        "id": "TQ4T8avoHcap"
      },
      "execution_count": null,
      "outputs": []
    },
    {
      "cell_type": "code",
      "source": [
        "train_generator = train_datagen.flow_from_directory(\n",
        "    train_data_dir,\n",
        "    target_size=(img_width, img_height),\n",
        "    batch_size=batch_size,\n",
        "    class_mode='categorical')\n",
        "\n",
        "test_generator = test_datagen.flow_from_directory(\n",
        "    test_data_dir,\n",
        "    target_size=(img_width, img_height),\n",
        "    batch_size=batch_size,\n",
        "    class_mode='categorical')"
      ],
      "metadata": {
        "colab": {
          "base_uri": "https://localhost:8080/"
        },
        "id": "R_jjTcwHFx8E",
        "outputId": "53760bb4-5f95-46e8-90ef-16d0917b7407"
      },
      "execution_count": null,
      "outputs": [
        {
          "output_type": "stream",
          "name": "stdout",
          "text": [
            "Found 59884 images belonging to 3 classes.\n",
            "Found 14070 images belonging to 3 classes.\n"
          ]
        }
      ]
    },
    {
      "cell_type": "code",
      "source": [
        "train_samples = train_generator.samples\n",
        "print(train_samples)\n",
        "test_samples=test_generator.samples\n",
        "print(test_samples)"
      ],
      "metadata": {
        "colab": {
          "base_uri": "https://localhost:8080/"
        },
        "id": "r1L8kUutMFSF",
        "outputId": "e40036d0-07a8-4ba9-e21c-2fac1c0bc7ed"
      },
      "execution_count": null,
      "outputs": [
        {
          "output_type": "stream",
          "name": "stdout",
          "text": [
            "59884\n",
            "14070\n"
          ]
        }
      ]
    },
    {
      "cell_type": "code",
      "source": [
        "if K.image_data_format() == 'channels_first':\n",
        "    input_shape = (3, img_width, img_height)\n",
        "else:\n",
        "    input_shape = (img_width, img_height, 3)"
      ],
      "metadata": {
        "id": "jD_vNmPXOltB"
      },
      "execution_count": null,
      "outputs": []
    },
    {
      "cell_type": "code",
      "source": [
        "model = tf.keras.Sequential([\n",
        "    layers.Conv2D(32, (3, 3), activation='relu', input_shape=input_shape),\n",
        "    layers.BatchNormalization(),\n",
        "    layers.MaxPooling2D((2, 2)),\n",
        "    layers.Conv2D(64, (3, 3), activation='relu'),\n",
        "    layers.BatchNormalization(),\n",
        "    layers.MaxPooling2D((2, 2)),\n",
        "    layers.Conv2D(64, (3, 3), activation='relu'),\n",
        "    layers.BatchNormalization(),\n",
        "    layers.MaxPooling2D((2, 2)),\n",
        "    layers.Dropout(0.6),\n",
        "    layers.Conv2D(64, (3, 3), activation='relu'),\n",
        "    layers.BatchNormalization(),\n",
        "    layers.MaxPooling2D((2, 2)),\n",
        "    layers.Dropout(0.6),\n",
        "    layers.Conv2D(64, (3, 3), activation='relu'),\n",
        "    layers.BatchNormalization(),\n",
        "    layers.MaxPooling2D((2, 2)),\n",
        "    layers.Dropout(0.6),\n",
        "    layers.Conv2D(128, (3, 3), activation='relu'),\n",
        "    layers.BatchNormalization(),\n",
        "    layers.MaxPooling2D((2, 2)),\n",
        "    layers.Flatten(),\n",
        "    layers.Dense(42, activation='relu'),\n",
        "    layers.Dense(42, activation='softmax'),\n",
        "    layers.Dense(3,activation='softmax')\n",
        "])"
      ],
      "metadata": {
        "id": "VjTd_EetOFna"
      },
      "execution_count": null,
      "outputs": []
    },
    {
      "cell_type": "code",
      "source": [
        "from tensorflow.keras.optimizers import Adam\n",
        "\n",
        "# Increase learning rate to 0.02\n",
        "opt = Adam(learning_rate=0.02)\n",
        "\n",
        "model.compile(loss='categorical_crossentropy',\n",
        "              optimizer=opt,\n",
        "              metrics=['accuracy'])"
      ],
      "metadata": {
        "id": "3DTaAiFKHY16"
      },
      "execution_count": null,
      "outputs": []
    },
    {
      "cell_type": "code",
      "source": [
        "model.summary()"
      ],
      "metadata": {
        "id": "poqwBOzxtFxs"
      },
      "execution_count": null,
      "outputs": []
    },
    {
      "cell_type": "code",
      "source": [
        "import os\n",
        "from PIL import Image\n",
        "\n",
        "def verify_images(directory):\n",
        "    for foldername in os.listdir(directory):\n",
        "        folder_path = os.path.join(directory, foldername)\n",
        "        for filename in os.listdir(folder_path):\n",
        "            if filename.endswith(('jpeg', 'png', 'jpg', 'bmp', 'gif')):\n",
        "                try:\n",
        "                    img_path = os.path.join(folder_path, filename)\n",
        "                    img = Image.open(img_path)\n",
        "                    img.verify()\n",
        "                except (IOError, SyntaxError) as e:\n",
        "                    print('Bad file:', img_path)\n",
        "\n",
        "verify_images('/content/Final_v1/Train')\n",
        "verify_images('/content/Final_v1/Test')\n"
      ],
      "metadata": {
        "id": "uRPlvdsz8BO8"
      },
      "execution_count": null,
      "outputs": []
    },
    {
      "cell_type": "code",
      "source": [
        "history = model.fit(\n",
        "    train_generator,\n",
        "    steps_per_epoch=train_samples // batch_size,\n",
        "    epochs=9,\n",
        "    validation_data=test_generator,\n",
        "    validation_steps=test_samples // batch_size)"
      ],
      "metadata": {
        "colab": {
          "base_uri": "https://localhost:8080/"
        },
        "id": "kYbL791xNwqL",
        "outputId": "5ee7b424-9397-4a62-e890-a703cd1c4ee3"
      },
      "execution_count": null,
      "outputs": [
        {
          "output_type": "stream",
          "name": "stdout",
          "text": [
            "Epoch 1/9\n",
            "99/99 [==============================] - 1058s 10s/step - loss: 0.4484 - accuracy: 0.8213 - val_loss: 1.6250 - val_accuracy: 0.5911\n",
            "Epoch 2/9\n",
            "99/99 [==============================] - 1031s 10s/step - loss: 0.2495 - accuracy: 0.9095 - val_loss: 0.9284 - val_accuracy: 0.7060\n",
            "Epoch 3/9\n",
            "99/99 [==============================] - 1030s 10s/step - loss: 0.2155 - accuracy: 0.9234 - val_loss: 0.8889 - val_accuracy: 0.7648\n",
            "Epoch 4/9\n",
            "99/99 [==============================] - 1032s 10s/step - loss: 0.1951 - accuracy: 0.9329 - val_loss: 0.5134 - val_accuracy: 0.8485\n",
            "Epoch 5/9\n",
            "99/99 [==============================] - 1030s 10s/step - loss: 0.1769 - accuracy: 0.9399 - val_loss: 1.5554 - val_accuracy: 0.5380\n",
            "Epoch 6/9\n",
            "99/99 [==============================] - 1025s 10s/step - loss: 0.1659 - accuracy: 0.9424 - val_loss: 0.6926 - val_accuracy: 0.8083\n",
            "Epoch 7/9\n",
            "99/99 [==============================] - 1030s 10s/step - loss: 0.1557 - accuracy: 0.9472 - val_loss: 0.7731 - val_accuracy: 0.7642\n",
            "Epoch 8/9\n",
            "99/99 [==============================] - 1029s 10s/step - loss: 0.1507 - accuracy: 0.9489 - val_loss: 0.4057 - val_accuracy: 0.8757\n",
            "Epoch 9/9\n",
            "99/99 [==============================] - 1020s 10s/step - loss: 0.1435 - accuracy: 0.9516 - val_loss: 0.8729 - val_accuracy: 0.7796\n"
          ]
        }
      ]
    },
    {
      "cell_type": "code",
      "source": [
        "model.save_weights('final_cnn.h5')"
      ],
      "metadata": {
        "id": "twAYXGFSLKT8"
      },
      "execution_count": null,
      "outputs": []
    },
    {
      "cell_type": "code",
      "source": [
        "import torch\n",
        "# Save the PyTorch model as a .pth file\n",
        "torch.save(model.load_state_dict(strict=False), 'model_final1.pth')"
      ],
      "metadata": {
        "id": "Jkn69qk4eKMa"
      },
      "execution_count": null,
      "outputs": []
    },
    {
      "cell_type": "code",
      "source": [
        "model.save('/content/final_cnn.h5')"
      ],
      "metadata": {
        "id": "egL92q7TLK8K"
      },
      "execution_count": null,
      "outputs": []
    },
    {
      "cell_type": "code",
      "source": [
        "test_generator = test_datagen.flow_from_directory(\n",
        "    test_data_dir,\n",
        "    target_size=(img_width, img_height),\n",
        "    batch_size=64,\n",
        "    class_mode='categorical')\n",
        "\n",
        "# # Load the trained model\n",
        "# base_model.load_weights('imagenet')\n",
        "\n",
        "# Evaluate the model on the test data\n",
        "test_loss, test_accuracy = model.evaluate(test_generator, steps=test_samples // batch_size )\n",
        "\n",
        "print('Test Loss:', test_loss)\n",
        "print('Test Accuracy:', test_accuracy)"
      ],
      "metadata": {
        "colab": {
          "base_uri": "https://localhost:8080/"
        },
        "id": "0njTUtMxaISq",
        "outputId": "0ac2fbfd-b5d4-48f8-9ac1-c992d05ce1ea"
      },
      "execution_count": null,
      "outputs": [
        {
          "output_type": "stream",
          "name": "stdout",
          "text": [
            "Found 14070 images belonging to 3 classes.\n",
            "23/23 [==============================] - 13s 558ms/step - loss: 0.8999 - accuracy: 0.7779\n",
            "Test Loss: 0.8999016880989075\n",
            "Test Accuracy: 0.77785325050354\n"
          ]
        }
      ]
    },
    {
      "cell_type": "code",
      "source": [
        "import matplotlib.pyplot as plt\n",
        "%matplotlib inline\n",
        "# list all data in history\n",
        "print(history.history.keys())\n",
        "\n",
        "# summarize history for accuracy\n",
        "plt.plot(history.history['accuracy'])\n",
        "plt.plot(history.history['val_accuracy'])\n",
        "plt.title('model accuracy')\n",
        "plt.ylabel('accuracy')\n",
        "plt.xlabel('epoch')\n",
        "plt.legend(['train', 'test'], loc='upper left')\n",
        "plt.show()\n",
        "\n",
        "# summarize history for loss\n",
        "plt.plot(history.history['loss'])\n",
        "plt.plot(history.history['val_loss'])\n",
        "plt.title('model loss')\n",
        "plt.ylabel('loss')\n",
        "plt.xlabel('epoch')\n",
        "plt.legend(['train', 'test'], loc='upper left')\n",
        "plt.show()"
      ],
      "metadata": {
        "colab": {
          "base_uri": "https://localhost:8080/",
          "height": 944
        },
        "id": "RgTjhdlMP9PQ",
        "outputId": "f00e32da-112f-419b-d272-ba0491b7c57e"
      },
      "execution_count": null,
      "outputs": [
        {
          "output_type": "stream",
          "name": "stdout",
          "text": [
            "dict_keys(['loss', 'accuracy', 'val_loss', 'val_accuracy'])\n"
          ]
        },
        {
          "output_type": "display_data",
          "data": {
            "text/plain": [
              "<Figure size 640x480 with 1 Axes>"
            ],
            "image/png": "[encoded data removed]"
          },
          "metadata": {}
        },
        {
          "output_type": "display_data",
          "data": {
            "text/plain": [
              "<Figure size 640x480 with 1 Axes>"
            ],
            "image/png": "[encoded data removed]"
          },
          "metadata": {}
        }
      ]
    },
    {
      "cell_type": "code",
      "source": [
        "\n",
        "  # Load the trained model\n",
        "  #model.load_weights('first_try.h5')\n",
        "\n",
        "  # Define a list of image paths\n",
        "  image_paths = ['/content/FIRE-SMOKE-DATASET/Test/Fire/image_26.jpg',\n",
        "                '/content/FIRE-SMOKE-DATASET/Test/Smoke/image_12.jpg',\n",
        "                '/content/FIRE-SMOKE-DATASET/Test/Neutral/image_7.jpg']\n",
        "\n",
        "  # Iterate over the image paths\n",
        "  for img_path in image_paths:\n",
        "      # Load and preprocess the image\n",
        "      img = image.load_img(img_path, target_size=(img_width, img_height))\n",
        "      img_array = image.img_to_array(img)\n",
        "      img_array = np.expand_dims(img_array, axis=0)\n",
        "      preprocessed_img = img_array / 255.0  # Normalize the image\n",
        "\n",
        "      # Perform prediction\n",
        "      prediction = model.predict(preprocessed_img)\n",
        "      print('Image:', img_path)\n",
        "      print('Prediction:', prediction[0][0])\n",
        "\n",
        "      # Plot the image\n",
        "      import matplotlib.pyplot as plt\n",
        "      plt.imshow(img)\n",
        "      plt.show()"
      ],
      "metadata": {
        "id": "Gzq01l9hbC87"
      },
      "execution_count": null,
      "outputs": []
    }
  ]
}